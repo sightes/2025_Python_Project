{
 "cells": [
  {
   "cell_type": "code",
   "execution_count": null,
   "metadata": {},
   "outputs": [
    {
     "name": "stdout",
     "output_type": "stream",
     "text": [
      "Ejecutando commit para: 2025-02-01 10:00:00\n",
      "Ejecutando commit para: 2025-02-02 10:00:00\n",
      "Ejecutando commit para: 2025-02-03 10:00:00\n",
      "Ejecutando commit para: 2025-02-04 10:00:00\n",
      "Ejecutando commit para: 2025-02-05 10:00:00\n",
      "Ejecutando commit para: 2025-02-06 10:00:00\n"
     ]
    },
    {
     "name": "stderr",
     "output_type": "stream",
     "text": [
      "fatal: not a git repository (or any of the parent directories): .git\n",
      "fatal: not a git repository (or any of the parent directories): .git\n",
      "fatal: not a git repository (or any of the parent directories): .git\n",
      "fatal: not a git repository (or any of the parent directories): .git\n",
      "fatal: not a git repository (or any of the parent directories): .git\n",
      "fatal: not a git repository (or any of the parent directories): .git\n",
      "fatal: not a git repository (or any of the parent directories): .git\n",
      "fatal: not a git repository (or any of the parent directories): .git\n",
      "fatal: not a git repository (or any of the parent directories): .git\n",
      "fatal: not a git repository (or any of the parent directories): .git\n",
      "fatal: not a git repository (or any of the parent directories): .git\n",
      "fatal: not a git repository (or any of the parent directories): .git\n",
      "fatal: not a git repository (or any of the parent directories): .git\n"
     ]
    },
    {
     "name": "stdout",
     "output_type": "stream",
     "text": [
      "Ejecutando commit para: 2025-02-07 10:00:00\n",
      "Ejecutando commit para: 2025-02-08 10:00:00\n",
      "Ejecutando commit para: 2025-02-09 10:00:00\n",
      "Ejecutando commit para: 2025-02-10 10:00:00\n",
      "Ejecutando commit para: 2025-02-11 10:00:00\n",
      "Ejecutando commit para: 2025-02-12 10:00:00\n",
      "Ejecutando commit para: 2025-02-13 10:00:00\n"
     ]
    },
    {
     "name": "stderr",
     "output_type": "stream",
     "text": [
      "fatal: not a git repository (or any of the parent directories): .git\n",
      "fatal: not a git repository (or any of the parent directories): .git\n",
      "fatal: not a git repository (or any of the parent directories): .git\n",
      "fatal: not a git repository (or any of the parent directories): .git\n",
      "fatal: not a git repository (or any of the parent directories): .git\n",
      "fatal: not a git repository (or any of the parent directories): .git\n",
      "fatal: not a git repository (or any of the parent directories): .git\n",
      "fatal: not a git repository (or any of the parent directories): .git\n",
      "fatal: not a git repository (or any of the parent directories): .git\n",
      "fatal: not a git repository (or any of the parent directories): .git\n",
      "fatal: not a git repository (or any of the parent directories): .git\n",
      "fatal: not a git repository (or any of the parent directories): .git\n",
      "fatal: not a git repository (or any of the parent directories): .git\n"
     ]
    },
    {
     "name": "stdout",
     "output_type": "stream",
     "text": [
      "Ejecutando commit para: 2025-02-14 10:00:00\n",
      "Ejecutando commit para: 2025-02-15 10:00:00\n",
      "Ejecutando commit para: 2025-02-16 10:00:00\n",
      "Ejecutando commit para: 2025-02-17 10:00:00\n",
      "Ejecutando commit para: 2025-02-18 10:00:00\n",
      "Ejecutando commit para: 2025-02-19 10:00:00\n",
      "Ejecutando commit para: 2025-02-20 10:00:00\n"
     ]
    },
    {
     "name": "stderr",
     "output_type": "stream",
     "text": [
      "fatal: not a git repository (or any of the parent directories): .git\n",
      "fatal: not a git repository (or any of the parent directories): .git\n",
      "fatal: not a git repository (or any of the parent directories): .git\n",
      "fatal: not a git repository (or any of the parent directories): .git\n",
      "fatal: not a git repository (or any of the parent directories): .git\n",
      "fatal: not a git repository (or any of the parent directories): .git\n",
      "fatal: not a git repository (or any of the parent directories): .git\n",
      "fatal: not a git repository (or any of the parent directories): .git\n",
      "fatal: not a git repository (or any of the parent directories): .git\n",
      "fatal: not a git repository (or any of the parent directories): .git\n",
      "fatal: not a git repository (or any of the parent directories): .git\n",
      "fatal: not a git repository (or any of the parent directories): .git\n",
      "fatal: not a git repository (or any of the parent directories): .git\n",
      "fatal: not a git repository (or any of the parent directories): .git\n",
      "fatal: not a git repository (or any of the parent directories): .git\n",
      "fatal: not a git repository (or any of the parent directories): .git\n",
      "fatal: not a git repository (or any of the parent directories): .git\n",
      "fatal: not a git repository (or any of the parent directories): .git\n",
      "fatal: not a git repository (or any of the parent directories): .git\n",
      "fatal: not a git repository (or any of the parent directories): .git\n",
      "fatal: not a git repository (or any of the parent directories): .git\n",
      "fatal: not a git repository (or any of the parent directories): .git\n",
      "fatal: not a git repository (or any of the parent directories): .git\n",
      "fatal: not a git repository (or any of the parent directories): .git\n",
      "fatal: not a git repository (or any of the parent directories): .git\n",
      "fatal: not a git repository (or any of the parent directories): .git\n"
     ]
    },
    {
     "name": "stdout",
     "output_type": "stream",
     "text": [
      "Ejecutando commit para: 2025-02-21 10:00:00\n",
      "Ejecutando commit para: 2025-02-22 10:00:00\n",
      "Ejecutando commit para: 2025-02-23 10:00:00\n",
      "Ejecutando commit para: 2025-02-24 10:00:00\n",
      "Ejecutando commit para: 2025-02-25 10:00:00\n",
      "Ejecutando commit para: 2025-02-26 10:00:00\n",
      "Ejecutando commit para: 2025-02-27 10:00:00\n",
      "Ejecutando commit para: 2025-02-28 10:00:00\n",
      "Proceso completado.\n"
     ]
    },
    {
     "name": "stderr",
     "output_type": "stream",
     "text": [
      "fatal: not a git repository (or any of the parent directories): .git\n",
      "fatal: not a git repository (or any of the parent directories): .git\n",
      "fatal: not a git repository (or any of the parent directories): .git\n",
      "fatal: not a git repository (or any of the parent directories): .git\n"
     ]
    }
   ],
   "source": [
    "import os\n",
    "import subprocess\n",
    "from datetime import datetime, timedelta\n",
    "\n",
    "# Configuración: establece el año, mes y directorio del repositorio\n",
    "YEAR = 2025\n",
    "MONTH =2\n",
    "REPO_DIR = \"/\"  # Cambia esto a la ubicación de tu repo\n",
    "\n",
    "# Obtener el primer día del mes\n",
    "start_date = datetime(YEAR, MONTH, 1)\n",
    "\n",
    "# Calcular el último día del mes\n",
    "if MONTH == 1:\n",
    "    end_date = datetime(YEAR + 1, 2, 1) - timedelta(days=1)\n",
    "else:\n",
    "    end_date = datetime(YEAR, MONTH + 1, 1) - timedelta(days=1)\n",
    "\n",
    "# Recorre los días del mes\n",
    "current_date = start_date\n",
    "while current_date <= end_date:\n",
    "    commit_date = current_date.strftime(\"%Y-%m-%d 10:00:00\")\n",
    "    print(f\"Creando commit para: {commit_date}\")\n",
    "    os.chdir(REPO_DIR)\n",
    "    subprocess.run([\"git\", \"commit\", \"--amend\", \"--no-edit\", f\"--date={commit_date}\"])\n",
    "    subprocess.run([\"git\", \"push\", \"origin\", \"main\", \"--force\"])\n",
    "    current_date += timedelta(days=1)\n",
    "print(\"Proceso completado.\")"
   ]
  },
  {
   "cell_type": "code",
   "execution_count": null,
   "metadata": {},
   "outputs": [],
   "source": []
  }
 ],
 "metadata": {
  "kernelspec": {
   "display_name": ".venv",
   "language": "python",
   "name": "python3"
  },
  "language_info": {
   "codemirror_mode": {
    "name": "ipython",
    "version": 3
   },
   "file_extension": ".py",
   "mimetype": "text/x-python",
   "name": "python",
   "nbconvert_exporter": "python",
   "pygments_lexer": "ipython3",
   "version": "3.9.6"
  }
 },
 "nbformat": 4,
 "nbformat_minor": 2
}
